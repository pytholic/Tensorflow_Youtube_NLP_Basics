{
 "cells": [
  {
   "cell_type": "code",
   "execution_count": 1,
   "id": "8e6e2127",
   "metadata": {},
   "outputs": [],
   "source": [
    "import json\n",
    "import tensorflow as tf\n",
    "\n",
    "from tensorflow.keras.preprocessing.text import Tokenizer\n",
    "from tensorflow.keras.preprocessing.sequence import pad_sequences"
   ]
  },
  {
   "cell_type": "code",
   "execution_count": 2,
   "id": "074578c0",
   "metadata": {},
   "outputs": [],
   "source": [
    "vocab_size = 10000\n",
    "embedding_dim = 16\n",
    "max_length = 100\n",
    "trunc_type='post'\n",
    "padding_type='post'\n",
    "oov_tok = \"<OOV>\"\n",
    "training_size = 20000"
   ]
  },
  {
   "cell_type": "code",
   "execution_count": 22,
   "id": "bbb72f37",
   "metadata": {},
   "outputs": [],
   "source": [
    "# with open(\"./dataset/Sarcasm_Headlines_Dataset.json\", 'r') as f:\n",
    "#     datastore = json.load(f)\n",
    "\n",
    "datastore = [json.loads(line) for line in open('./dataset/Sarcasm_Headlines_Dataset_v2.json', 'r')]\n",
    "\n",
    "sentences = []\n",
    "labels = []\n",
    "\n",
    "for item in datastore:\n",
    "    sentences.append(item['headline'])\n",
    "    labels.append(item['is_sarcastic'])"
   ]
  },
  {
   "cell_type": "code",
   "execution_count": 23,
   "id": "8b77a079",
   "metadata": {},
   "outputs": [
    {
     "name": "stdout",
     "output_type": "stream",
     "text": [
      "28619\n"
     ]
    }
   ],
   "source": [
    "print(len(datastore))"
   ]
  },
  {
   "cell_type": "code",
   "execution_count": 24,
   "id": "c429f6d6",
   "metadata": {},
   "outputs": [],
   "source": [
    "training_sentences = sentences[0:training_size]\n",
    "testing_sentences = sentences[training_size:]\n",
    "training_labels = labels[0:training_size]\n",
    "testing_labels = labels[training_size:]"
   ]
  },
  {
   "cell_type": "code",
   "execution_count": 25,
   "id": "1090220d",
   "metadata": {},
   "outputs": [],
   "source": [
    "tokenizer = Tokenizer(num_words=vocab_size, oov_token=oov_tok)\n",
    "tokenizer.fit_on_texts(training_sentences)\n",
    "\n",
    "word_index = tokenizer.word_index\n",
    "\n",
    "training_sequences = tokenizer.texts_to_sequences(training_sentences)\n",
    "training_padded = pad_sequences(training_sequences, maxlen=max_length, padding=padding_type, truncating=trunc_type)\n",
    "\n",
    "testing_sequences = tokenizer.texts_to_sequences(testing_sentences)\n",
    "testing_padded = pad_sequences(testing_sequences, maxlen=max_length, padding=padding_type, truncating=trunc_type)"
   ]
  },
  {
   "cell_type": "code",
   "execution_count": 26,
   "id": "0d53dce2",
   "metadata": {},
   "outputs": [],
   "source": [
    "# Need this block to get it to work with TensorFlow 2.x\n",
    "import numpy as np\n",
    "training_padded = np.array(training_padded)\n",
    "training_labels = np.array(training_labels)\n",
    "testing_padded = np.array(testing_padded)\n",
    "testing_labels = np.array(testing_labels)"
   ]
  },
  {
   "cell_type": "code",
   "execution_count": 27,
   "id": "591024b2",
   "metadata": {},
   "outputs": [],
   "source": [
    "model = tf.keras.Sequential([\n",
    "    tf.keras.layers.Embedding(vocab_size, embedding_dim, input_length=max_length),\n",
    "    tf.keras.layers.GlobalAveragePooling1D(),\n",
    "    tf.keras.layers.Dense(24, activation='relu'),\n",
    "    tf.keras.layers.Dense(1, activation='sigmoid')\n",
    "])\n",
    "model.compile(loss='binary_crossentropy',optimizer='adam',metrics=['accuracy'])"
   ]
  },
  {
   "cell_type": "code",
   "execution_count": 28,
   "id": "197fb079",
   "metadata": {},
   "outputs": [
    {
     "name": "stdout",
     "output_type": "stream",
     "text": [
      "Epoch 1/30\n",
      "625/625 - 3s - loss: 0.6538 - accuracy: 0.5973 - val_loss: 0.5285 - val_accuracy: 0.7884\n",
      "Epoch 2/30\n",
      "625/625 - 2s - loss: 0.4105 - accuracy: 0.8414 - val_loss: 0.3839 - val_accuracy: 0.8289\n",
      "Epoch 3/30\n",
      "625/625 - 2s - loss: 0.3012 - accuracy: 0.8844 - val_loss: 0.3454 - val_accuracy: 0.8479\n",
      "Epoch 4/30\n",
      "625/625 - 2s - loss: 0.2495 - accuracy: 0.9039 - val_loss: 0.3319 - val_accuracy: 0.8569\n",
      "Epoch 5/30\n",
      "625/625 - 2s - loss: 0.2145 - accuracy: 0.9188 - val_loss: 0.3361 - val_accuracy: 0.8542\n",
      "Epoch 6/30\n",
      "625/625 - 2s - loss: 0.1881 - accuracy: 0.9297 - val_loss: 0.3496 - val_accuracy: 0.8532\n",
      "Epoch 7/30\n",
      "625/625 - 2s - loss: 0.1666 - accuracy: 0.9401 - val_loss: 0.3802 - val_accuracy: 0.8434\n",
      "Epoch 8/30\n",
      "625/625 - 2s - loss: 0.1478 - accuracy: 0.9471 - val_loss: 0.3842 - val_accuracy: 0.8458\n",
      "Epoch 9/30\n",
      "625/625 - 2s - loss: 0.1334 - accuracy: 0.9527 - val_loss: 0.4052 - val_accuracy: 0.8465\n",
      "Epoch 10/30\n",
      "625/625 - 2s - loss: 0.1207 - accuracy: 0.9585 - val_loss: 0.4405 - val_accuracy: 0.8386\n",
      "Epoch 11/30\n",
      "625/625 - 2s - loss: 0.1097 - accuracy: 0.9630 - val_loss: 0.4586 - val_accuracy: 0.8364\n",
      "Epoch 12/30\n",
      "625/625 - 2s - loss: 0.1011 - accuracy: 0.9668 - val_loss: 0.4885 - val_accuracy: 0.8337\n",
      "Epoch 13/30\n",
      "625/625 - 2s - loss: 0.0909 - accuracy: 0.9700 - val_loss: 0.5314 - val_accuracy: 0.8296\n",
      "Epoch 14/30\n",
      "625/625 - 2s - loss: 0.0830 - accuracy: 0.9745 - val_loss: 0.5513 - val_accuracy: 0.8290\n",
      "Epoch 15/30\n",
      "625/625 - 2s - loss: 0.0753 - accuracy: 0.9760 - val_loss: 0.5935 - val_accuracy: 0.8272\n",
      "Epoch 16/30\n",
      "625/625 - 2s - loss: 0.0694 - accuracy: 0.9791 - val_loss: 0.6479 - val_accuracy: 0.8229\n",
      "Epoch 17/30\n",
      "625/625 - 2s - loss: 0.0646 - accuracy: 0.9809 - val_loss: 0.6616 - val_accuracy: 0.8239\n",
      "Epoch 18/30\n",
      "625/625 - 2s - loss: 0.0575 - accuracy: 0.9831 - val_loss: 0.7419 - val_accuracy: 0.8188\n",
      "Epoch 19/30\n",
      "625/625 - 2s - loss: 0.0531 - accuracy: 0.9853 - val_loss: 0.7362 - val_accuracy: 0.8156\n",
      "Epoch 20/30\n",
      "625/625 - 2s - loss: 0.0506 - accuracy: 0.9851 - val_loss: 0.7870 - val_accuracy: 0.8183\n",
      "Epoch 21/30\n",
      "625/625 - 2s - loss: 0.0453 - accuracy: 0.9877 - val_loss: 0.8832 - val_accuracy: 0.8133\n",
      "Epoch 22/30\n",
      "625/625 - 2s - loss: 0.0437 - accuracy: 0.9871 - val_loss: 0.8532 - val_accuracy: 0.8139\n",
      "Epoch 23/30\n",
      "625/625 - 2s - loss: 0.0397 - accuracy: 0.9894 - val_loss: 0.8959 - val_accuracy: 0.8111\n",
      "Epoch 24/30\n",
      "625/625 - 2s - loss: 0.0360 - accuracy: 0.9901 - val_loss: 0.9794 - val_accuracy: 0.8133\n",
      "Epoch 25/30\n",
      "625/625 - 2s - loss: 0.0327 - accuracy: 0.9919 - val_loss: 0.9893 - val_accuracy: 0.8102\n",
      "Epoch 26/30\n",
      "625/625 - 2s - loss: 0.0334 - accuracy: 0.9901 - val_loss: 1.0647 - val_accuracy: 0.8095\n",
      "Epoch 27/30\n",
      "625/625 - 2s - loss: 0.0283 - accuracy: 0.9930 - val_loss: 1.0679 - val_accuracy: 0.8084\n",
      "Epoch 28/30\n",
      "625/625 - 2s - loss: 0.0297 - accuracy: 0.9913 - val_loss: 1.1644 - val_accuracy: 0.8060\n",
      "Epoch 29/30\n",
      "625/625 - 2s - loss: 0.0271 - accuracy: 0.9930 - val_loss: 1.1452 - val_accuracy: 0.8033\n",
      "Epoch 30/30\n",
      "625/625 - 2s - loss: 0.0232 - accuracy: 0.9949 - val_loss: 1.2217 - val_accuracy: 0.8031\n"
     ]
    }
   ],
   "source": [
    "num_epochs = 30\n",
    "history = model.fit(training_padded, training_labels, epochs=num_epochs, \n",
    "                    validation_data=(testing_padded, testing_labels), verbose=2)"
   ]
  },
  {
   "cell_type": "code",
   "execution_count": 29,
   "id": "985ae7a5",
   "metadata": {},
   "outputs": [
    {
     "data": {
      "image/png": "[encoded data removed]",
      "text/plain": [
       "<Figure size 432x288 with 1 Axes>"
      ]
     },
     "metadata": {
      "needs_background": "light"
     },
     "output_type": "display_data"
    },
    {
     "data": {
      "image/png": "[encoded data removed]",
      "text/plain": [
       "<Figure size 432x288 with 1 Axes>"
      ]
     },
     "metadata": {
      "needs_background": "light"
     },
     "output_type": "display_data"
    }
   ],
   "source": [
    "import matplotlib.pyplot as plt\n",
    "\n",
    "\n",
    "def plot_graphs(history, string):\n",
    "  plt.plot(history.history[string])\n",
    "  plt.plot(history.history['val_'+string])\n",
    "  plt.xlabel(\"Epochs\")\n",
    "  plt.ylabel(string)\n",
    "  plt.legend([string, 'val_'+string])\n",
    "  plt.show()\n",
    "  \n",
    "plot_graphs(history, \"accuracy\")\n",
    "plot_graphs(history, \"loss\")"
   ]
  },
  {
   "cell_type": "code",
   "execution_count": 34,
   "id": "eda80c1d",
   "metadata": {},
   "outputs": [
    {
     "name": "stdout",
     "output_type": "stream",
     "text": [
      "[[7.957976e-01]\n",
      " [8.306267e-11]]\n"
     ]
    }
   ],
   "source": [
    "sentence = [\"granny starting to fear spiders in the garden might be real\", \"game of thrones season finale showing this sunday night\"]\n",
    "sequences = tokenizer.texts_to_sequences(sentence)\n",
    "padded = pad_sequences(sequences, maxlen=max_length, padding=padding_type, truncating=trunc_type)\n",
    "print(model.predict(padded))"
   ]
  },
  {
   "cell_type": "code",
   "execution_count": 36,
   "id": "7ea5c3f1",
   "metadata": {},
   "outputs": [
    {
     "ename": "ValueError",
     "evalue": "too many values to unpack (expected 2)",
     "output_type": "error",
     "traceback": [
      "\u001b[1;31m---------------------------------------------------------------------------\u001b[0m",
      "\u001b[1;31mValueError\u001b[0m                                Traceback (most recent call last)",
      "\u001b[1;32m~\\AppData\\Local\\Temp/ipykernel_3016/3315852950.py\u001b[0m in \u001b[0;36m<module>\u001b[1;34m\u001b[0m\n\u001b[1;32m----> 1\u001b[1;33m \u001b[0mreverse_word_index\u001b[0m \u001b[1;33m=\u001b[0m \u001b[0mdict\u001b[0m\u001b[1;33m(\u001b[0m\u001b[1;33m[\u001b[0m\u001b[1;33m(\u001b[0m\u001b[0mvalue\u001b[0m\u001b[1;33m,\u001b[0m \u001b[0mkey\u001b[0m\u001b[1;33m)\u001b[0m \u001b[1;32mfor\u001b[0m \u001b[1;33m(\u001b[0m\u001b[0mkey\u001b[0m\u001b[1;33m,\u001b[0m \u001b[0mvalue\u001b[0m\u001b[1;33m)\u001b[0m \u001b[1;32min\u001b[0m \u001b[0mword_index\u001b[0m\u001b[1;33m]\u001b[0m\u001b[1;33m)\u001b[0m\u001b[1;33m\u001b[0m\u001b[1;33m\u001b[0m\u001b[0m\n\u001b[0m\u001b[0;32m      2\u001b[0m \u001b[1;33m\u001b[0m\u001b[0m\n\u001b[0;32m      3\u001b[0m \u001b[1;32mdef\u001b[0m \u001b[0mdecode_sentence\u001b[0m\u001b[1;33m(\u001b[0m\u001b[0mtext\u001b[0m\u001b[1;33m)\u001b[0m\u001b[1;33m:\u001b[0m\u001b[1;33m\u001b[0m\u001b[1;33m\u001b[0m\u001b[0m\n\u001b[0;32m      4\u001b[0m     \u001b[1;32mreturn\u001b[0m \u001b[1;34m' '\u001b[0m\u001b[1;33m.\u001b[0m\u001b[0mjoin\u001b[0m\u001b[1;33m(\u001b[0m\u001b[1;33m[\u001b[0m\u001b[0mreverse_word_index\u001b[0m\u001b[1;33m.\u001b[0m\u001b[0mget\u001b[0m\u001b[1;33m(\u001b[0m\u001b[0mi\u001b[0m\u001b[1;33m,\u001b[0m \u001b[1;34m'?'\u001b[0m\u001b[1;33m)\u001b[0m \u001b[1;32mfor\u001b[0m \u001b[0mi\u001b[0m \u001b[1;32min\u001b[0m \u001b[0mtext\u001b[0m\u001b[1;33m]\u001b[0m\u001b[1;33m)\u001b[0m\u001b[1;33m\u001b[0m\u001b[1;33m\u001b[0m\u001b[0m\n\u001b[0;32m      5\u001b[0m \u001b[1;33m\u001b[0m\u001b[0m\n",
      "\u001b[1;32m~\\AppData\\Local\\Temp/ipykernel_3016/3315852950.py\u001b[0m in \u001b[0;36m<listcomp>\u001b[1;34m(.0)\u001b[0m\n\u001b[1;32m----> 1\u001b[1;33m \u001b[0mreverse_word_index\u001b[0m \u001b[1;33m=\u001b[0m \u001b[0mdict\u001b[0m\u001b[1;33m(\u001b[0m\u001b[1;33m[\u001b[0m\u001b[1;33m(\u001b[0m\u001b[0mvalue\u001b[0m\u001b[1;33m,\u001b[0m \u001b[0mkey\u001b[0m\u001b[1;33m)\u001b[0m \u001b[1;32mfor\u001b[0m \u001b[1;33m(\u001b[0m\u001b[0mkey\u001b[0m\u001b[1;33m,\u001b[0m \u001b[0mvalue\u001b[0m\u001b[1;33m)\u001b[0m \u001b[1;32min\u001b[0m \u001b[0mword_index\u001b[0m\u001b[1;33m]\u001b[0m\u001b[1;33m)\u001b[0m\u001b[1;33m\u001b[0m\u001b[1;33m\u001b[0m\u001b[0m\n\u001b[0m\u001b[0;32m      2\u001b[0m \u001b[1;33m\u001b[0m\u001b[0m\n\u001b[0;32m      3\u001b[0m \u001b[1;32mdef\u001b[0m \u001b[0mdecode_sentence\u001b[0m\u001b[1;33m(\u001b[0m\u001b[0mtext\u001b[0m\u001b[1;33m)\u001b[0m\u001b[1;33m:\u001b[0m\u001b[1;33m\u001b[0m\u001b[1;33m\u001b[0m\u001b[0m\n\u001b[0;32m      4\u001b[0m     \u001b[1;32mreturn\u001b[0m \u001b[1;34m' '\u001b[0m\u001b[1;33m.\u001b[0m\u001b[0mjoin\u001b[0m\u001b[1;33m(\u001b[0m\u001b[1;33m[\u001b[0m\u001b[0mreverse_word_index\u001b[0m\u001b[1;33m.\u001b[0m\u001b[0mget\u001b[0m\u001b[1;33m(\u001b[0m\u001b[0mi\u001b[0m\u001b[1;33m,\u001b[0m \u001b[1;34m'?'\u001b[0m\u001b[1;33m)\u001b[0m \u001b[1;32mfor\u001b[0m \u001b[0mi\u001b[0m \u001b[1;32min\u001b[0m \u001b[0mtext\u001b[0m\u001b[1;33m]\u001b[0m\u001b[1;33m)\u001b[0m\u001b[1;33m\u001b[0m\u001b[1;33m\u001b[0m\u001b[0m\n\u001b[0;32m      5\u001b[0m \u001b[1;33m\u001b[0m\u001b[0m\n",
      "\u001b[1;31mValueError\u001b[0m: too many values to unpack (expected 2)"
     ]
    }
   ],
   "source": [
    "reverse_word_index = dict([(value, key) for (key, value) in word_index.items()])\n",
    "\n",
    "def decode_sentence(text):\n",
    "    return ' '.join([reverse_word_index.get(i, '?') for i in text])\n",
    "\n",
    "print(decode_sentence(training_padded[0]))\n",
    "print(training_sentences[2])\n",
    "print(labels[2])"
   ]
  },
  {
   "cell_type": "code",
   "execution_count": null,
   "id": "2e745948",
   "metadata": {},
   "outputs": [],
   "source": []
  },
  {
   "cell_type": "code",
   "execution_count": null,
   "id": "3c181925",
   "metadata": {},
   "outputs": [],
   "source": []
  },
  {
   "cell_type": "code",
   "execution_count": null,
   "id": "77be7c66",
   "metadata": {},
   "outputs": [],
   "source": []
  }
 ],
 "metadata": {
  "kernelspec": {
   "display_name": "Python 3 (ipykernel)",
   "language": "python",
   "name": "python3"
  },
  "language_info": {
   "codemirror_mode": {
    "name": "ipython",
    "version": 3
   },
   "file_extension": ".py",
   "mimetype": "text/x-python",
   "name": "python",
   "nbconvert_exporter": "python",
   "pygments_lexer": "ipython3",
   "version": "3.9.7"
  }
 },
 "nbformat": 4,
 "nbformat_minor": 5
}
